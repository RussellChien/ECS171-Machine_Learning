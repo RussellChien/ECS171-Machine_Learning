{
 "cells": [
  {
   "cell_type": "code",
   "execution_count": 2,
   "id": "d4531f1d",
   "metadata": {},
   "outputs": [
    {
     "name": "stdout",
     "output_type": "stream",
     "text": [
      "   Temperature   Outlook  Humidity  Windy  Played\n",
      "0         Mild     Sunny        80  False    True\n",
      "1          Hot     Sunny        75   True   False\n",
      "2          Hot  Overcast        77  False    True\n",
      "3         Cool      Rain        70  False    True\n",
      "4         Cool  Overcast        72   True    True\n",
      "5         Mild     Sunny        77  False   False\n",
      "6         Cool     Sunny        70  False    True\n",
      "7         Mild      Rain        69  False    True\n",
      "8         Mild     Sunny        65   True    True\n",
      "9         Mild  Overcast        77   True    True\n",
      "10         Hot  Overcast        74  False    True\n",
      "11        Mild      Rain        77   True   False\n",
      "12        Cool      Rain        73   True   False\n",
      "13        Mild      Rain        78  False    True\n"
     ]
    }
   ],
   "source": [
    "import pandas as pd \n",
    "\n",
    "data = {\n",
    "    'Temperature': ['Mild', 'Hot', 'Hot', 'Cool', 'Cool', 'Mild', 'Cool', 'Mild', 'Mild', 'Mild', 'Hot', 'Mild', 'Cool', 'Mild'],\n",
    "    'Outlook': ['Sunny', 'Sunny', 'Overcast', 'Rain', 'Overcast', 'Sunny', 'Sunny', 'Rain', 'Sunny', 'Overcast', 'Overcast', 'Rain', 'Rain', 'Rain'],\n",
    "    'Humidity': [80, 75, 77, 70, 72, 77, 70, 69, 65, 77, 74, 77, 73, 78],\n",
    "    'Windy': [False, True, False, False, True, False, False, False, True, True, False, True, True, False],\n",
    "    'Played': [True, False, True, True, True, False, True, True, True, True, True, False, False, True]\n",
    "}\n",
    "\n",
    "df = pd.DataFrame(data)\n",
    "print(df)"
   ]
  }
 ],
 "metadata": {
  "kernelspec": {
   "display_name": "Python 3 (ipykernel)",
   "language": "python",
   "name": "python3"
  },
  "language_info": {
   "codemirror_mode": {
    "name": "ipython",
    "version": 3
   },
   "file_extension": ".py",
   "mimetype": "text/x-python",
   "name": "python",
   "nbconvert_exporter": "python",
   "pygments_lexer": "ipython3",
   "version": "3.9.16"
  }
 },
 "nbformat": 4,
 "nbformat_minor": 5
}
