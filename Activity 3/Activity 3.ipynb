{
 "cells": [
  {
   "cell_type": "code",
   "execution_count": 2,
   "id": "7a934e84",
   "metadata": {},
   "outputs": [
    {
     "name": "stdout",
     "output_type": "stream",
     "text": [
      "   Temperature   Outlook  Humidity  Windy  Played\n",
      "0         Mild     Sunny        80  False    True\n",
      "1          Hot     Sunny        75   True   False\n",
      "2          Hot  Overcast        77  False    True\n",
      "3         Cool      Rain        70  False    True\n",
      "4         Cool  Overcast        72   True    True\n",
      "5         Mild     Sunny        77  False   False\n",
      "6         Cool     Sunny        70  False    True\n",
      "7         Mild      Rain        69  False    True\n",
      "8         Mild     Sunny        65   True    True\n",
      "9         Mild  Overcast        77   True    True\n",
      "10         Hot  Overcast        74  False    True\n",
      "11        Mild      Rain        77   True   False\n",
      "12        Cool      Rain        73   True   False\n",
      "13        Mild      Rain        78  False    True\n"
     ]
    }
   ],
   "source": [
    "import pandas as pd \n",
    "import numpy as np\n",
    "\n",
    "data = {\n",
    "    'Temperature': ['Mild', 'Hot', 'Hot', 'Cool', 'Cool', 'Mild', 'Cool', 'Mild', 'Mild', 'Mild', 'Hot', 'Mild', 'Cool', 'Mild'],\n",
    "    'Outlook': ['Sunny', 'Sunny', 'Overcast', 'Rain', 'Overcast', 'Sunny', 'Sunny', 'Rain', 'Sunny', 'Overcast', 'Overcast', 'Rain', 'Rain', 'Rain'],\n",
    "    'Humidity': [80, 75, 77, 70, 72, 77, 70, 69, 65, 77, 74, 77, 73, 78],\n",
    "    'Windy': [False, True, False, False, True, False, False, False, True, True, False, True, True, False],\n",
    "    'Played': [True, False, True, True, True, False, True, True, True, True, True, False, False, True]\n",
    "}\n",
    "\n",
    "df = pd.DataFrame(data)\n",
    "print(df)"
   ]
  },
  {
   "cell_type": "code",
   "execution_count": 5,
   "id": "18acb697",
   "metadata": {},
   "outputs": [
    {
     "name": "stderr",
     "output_type": "stream",
     "text": [
      "C:\\Users\\russe\\AppData\\Local\\Temp\\ipykernel_45760\\2115828979.py:21: RuntimeWarning: divide by zero encountered in log2\n",
      "  ((1/14) * (-((0/1) * np.log2(0/1) + (1/1) * np.log2(1/1)))) + \\\n",
      "C:\\Users\\russe\\AppData\\Local\\Temp\\ipykernel_45760\\2115828979.py:21: RuntimeWarning: invalid value encountered in double_scalars\n",
      "  ((1/14) * (-((0/1) * np.log2(0/1) + (1/1) * np.log2(1/1)))) + \\\n",
      "C:\\Users\\russe\\AppData\\Local\\Temp\\ipykernel_45760\\2115828979.py:28: RuntimeWarning: divide by zero encountered in log2\n",
      "  ((1/14) * (-((0/1) * np.log2(0/1) + (1/1) * np.log2(1/1)))) + \\\n",
      "C:\\Users\\russe\\AppData\\Local\\Temp\\ipykernel_45760\\2115828979.py:28: RuntimeWarning: invalid value encountered in double_scalars\n",
      "  ((1/14) * (-((0/1) * np.log2(0/1) + (1/1) * np.log2(1/1)))) + \\\n"
     ]
    }
   ],
   "source": [
    "# Calculate entropy\n",
    "num_positive = len(df[df['Played'] == True])\n",
    "num_negative = len(df[df['Played'] == False])\n",
    "total_examples = len(df)\n",
    "\n",
    "entropy_played = -((num_positive/total_examples) * np.log2(num_positive/total_examples) + \n",
    "                   (num_negative/total_examples) * np.log2(num_negative/total_examples))\n",
    "\n",
    "# Calculate entropy for 'Temperature'\n",
    "entropy_temperature = ((4/14) * (-((3/4) * np.log2(3/4) + (1/4) * np.log2(1/4)))) + \\\n",
    "                      ((4/14) * (-((1/4) * np.log2(1/4) + (3/4) * np.log2(3/4)))) + \\\n",
    "                      ((6/14) * (-((5/6) * np.log2(5/6) + (1/6) * np.log2(1/6))))\n",
    "\n",
    "# Calculate entropy for 'Outlook'\n",
    "entropy_outlook = ((5/14) * (-((2/5) * np.log2(2/5) + (3/5) * np.log2(3/5)))) + \\\n",
    "                  ((4/14) * 0) + \\\n",
    "                  ((5/14) * (-((3/5) * np.log2(3/5) + (2/5) * np.log2(2/5))))\n",
    "\n",
    "# Calculate entropy for 'Humidity'\n",
    "entropy_humidity = ((1/14) * (-((1/1) * np.log2(1/1)))) + \\\n",
    "                   ((1/14) * (-((0/1) * np.log2(0/1) + (1/1) * np.log2(1/1)))) + \\\n",
    "                   ((4/14) * (-((3/4) * np.log2(3/4) + (1/4) * np.log2(1/4)))) + \\\n",
    "                   ((2/14) * (-((2/2) * np.log2(2/2)))) + \\\n",
    "                   ((1/14) * (-((1/1) * np.log2(1/1)))) + \\\n",
    "                   ((1/14) * (-((1/1) * np.log2(1/1)))) + \\\n",
    "                   ((1/14) * (-((1/1) * np.log2(1/1)))) + \\\n",
    "                   ((1/14) * (-((1/1) * np.log2(1/1)))) + \\\n",
    "                   ((1/14) * (-((0/1) * np.log2(0/1) + (1/1) * np.log2(1/1)))) + \\\n",
    "                   ((1/14) * (-((1/1) * np.log2(1/1))))\n",
    "\n",
    "# Calculate entropy for 'Windy'\n",
    "entropy_windy = ((8/14) * (-((6/8) * np.log2(6/8) + (2/8) * np.log2(2/8)))) + \\\n",
    "                ((6/14) * (-((3/6) * np.log2(3/6) + (3/6) * np.log2(3/6))))\n"
   ]
  }
 ],
 "metadata": {
  "kernelspec": {
   "display_name": "Python 3 (ipykernel)",
   "language": "python",
   "name": "python3"
  },
  "language_info": {
   "codemirror_mode": {
    "name": "ipython",
    "version": 3
   },
   "file_extension": ".py",
   "mimetype": "text/x-python",
   "name": "python",
   "nbconvert_exporter": "python",
   "pygments_lexer": "ipython3",
   "version": "3.9.16"
  }
 },
 "nbformat": 4,
 "nbformat_minor": 5
}
