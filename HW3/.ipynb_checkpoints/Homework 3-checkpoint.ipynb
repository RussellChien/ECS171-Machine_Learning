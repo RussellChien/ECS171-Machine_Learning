{
 "cells": [
  {
   "cell_type": "markdown",
   "metadata": {},
   "source": [
    "# Homework 3\n",
    "In this assignment, we will start with hyper-parameter tuning carried on from last homework and then building a Naïve Bayes classifier and a SVM model for the productivity satisfaction of [the given dataset](https://archive.ics.uci.edu/ml/datasets/Productivity+Prediction+of+Garment+Employees), the productivity of garment employees.\n",
    "\n",
    "## For Question 1:\n",
    "\n",
    "### About the Data Set\n",
    "Seven different types of dry beans were used in a study in Selcuk University, Turkey, taking into account the features such as form, shape, type, and structure by the market situation. A computer vision system was developed to distinguish seven different registered varieties of dry beans with similar features in order to obtain uniform seed classification. For the classification model, images of 13611 grains of 7 different registered dry beans were taken with a high-resolution camera. Bean images obtained by computer vision system were subjected to segmentation and feature extraction stages, and a total of 16 features - 12 dimensions and 4 shape forms - were obtained from the grains.\n",
    "\n",
    "Number of Instances (records in the data set): __13611__\n",
    "\n",
    "Number of Attributes (fields within each record, including the class): __17__\n",
    "\n",
    "### Data Set Attribute Information:\n",
    "\n",
    "1. __Area (A)__ : The area of a bean zone and the number of pixels within its boundaries.\n",
    "2. __Perimeter (P)__ : Bean circumference is defined as the length of its border.\n",
    "3. __Major axis length (L)__ : The distance between the ends of the longest line that can be drawn from a bean.\n",
    "4. __Minor axis length (l)__ : The longest line that can be drawn from the bean while standing perpendicular to the main axis.\n",
    "5. __Aspect ratio (K)__ : Defines the relationship between L and l.\n",
    "6. __Eccentricity (Ec)__ : Eccentricity of the ellipse having the same moments as the region.\n",
    "7. __Convex area (C)__ : Number of pixels in the smallest convex polygon that can contain the area of a bean seed.\n",
    "8. __Equivalent diameter (Ed)__ : The diameter of a circle having the same area as a bean seed area.\n",
    "9. __Extent (Ex)__ : The ratio of the pixels in the bounding box to the bean area.\n",
    "10. __Solidity (S)__ : Also known as convexity. The ratio of the pixels in the convex shell to those found in beans.\n",
    "11. __Roundness (R)__ : Calculated with the following formula: (4piA)/(P^2)\n",
    "12. __Compactness (CO)__ : Measures the roundness of an object: Ed/L\n",
    "13. __ShapeFactor1 (SF1)__\n",
    "14. __ShapeFactor2 (SF2)__\n",
    "15. __ShapeFactor3 (SF3)__\n",
    "16. __ShapeFactor4 (SF4)__\n",
    "\n",
    "17. __Classes : *Seker, Barbunya, Bombay, Cali, Dermosan, Horoz, Sira*__\n",
    "\n",
    "## For Questions 2-4:\n",
    "### Background \n",
    "The Garment Industry is one of the key examples of the industrial globalization of this modern era. It is a highly labour-intensive industry with lots of manual processes. Satisfying the huge global demand for garment products is mostly dependent on the production and delivery performance of the employees in the garment manufacturing companies. So, it is highly desirable among the decision makers in the garments industry to track, analyse and predict the productivity performance of the working teams in their factories. \n",
    "\n",
    "### Dataset Attribute Information\n",
    "\n",
    "1. **date**: Date in MM-DD-YYYY\n",
    "2. **day**: Day of the Week\n",
    "3. **quarter** : A portion of the month. A month was divided into four quarters\n",
    "4. **department** : Associated department with the instance\n",
    "5. **team_no** : Associated team number with the instance\n",
    "6. **no_of_workers** : Number of workers in each team\n",
    "7. **no_of_style_change** : Number of changes in the style of a particular product\n",
    "8. **targeted_productivity** : Targeted productivity set by the Authority for each team for each day.\n",
    "9. **smv** : Standard Minute Value, it is the allocated time for a task\n",
    "10. **wip** : Work in progress. Includes the number of unfinished items for products\n",
    "11. **over_time** : Represents the amount of overtime by each team in minutes\n",
    "12. **incentive** : Represents the amount of financial incentive (in BDT) that enables or motivates a particular course of action.\n",
    "13. **idle_time** : The amount of time when the production was interrupted due to several reasons\n",
    "14. **idle_men** : The number of workers who were idle due to production interruption\n",
    "15. **actual_productivity** : The actual % of productivity that was delivered by the workers. It ranges from 0-1.\n",
    "\n",
    "#### Libraries that can be used: numpy, scipy, pandas, scikit-learn, cvxpy, imbalanced-learn\n",
    "Any libraries used in the discussion materials are also allowed.\n",
    "\n",
    "#### Other Notes\n",
    "\n",
    " - Don't worry about not being able to achieve high accuracy, it is neither the goal nor the grading standard of this assignment. <br >\n",
    " - If not specified, you are not required to do hyperparameter tuning, but feel free to do so if you'd like.\n",
    "\n",
    "#### Trouble Shooting\n",
    "In case you have trouble installing and using imbalanced-learn(imblearn) <br >\n",
    "Run the below code cell, then go to the selection bar at top: Kernel > Restart. <br >\n",
    "Then try `import imblearn` to see if things work. "
   ]
  },
  {
   "cell_type": "code",
   "execution_count": 1,
   "metadata": {},
   "outputs": [
    {
     "name": "stdout",
     "output_type": "stream",
     "text": [
      "Requirement already satisfied: imbalanced-learn in c:\\users\\russe\\anaconda3\\envs\\tf-gpu\\lib\\site-packages (0.10.1)\n",
      "Collecting delayed\n",
      "  Using cached delayed-0.11.0b1-py2.py3-none-any.whl (19 kB)\n",
      "Requirement already satisfied: numpy>=1.17.3 in c:\\users\\russe\\anaconda3\\envs\\tf-gpu\\lib\\site-packages (from imbalanced-learn) (1.23.5)\n",
      "Requirement already satisfied: threadpoolctl>=2.0.0 in c:\\users\\russe\\anaconda3\\envs\\tf-gpu\\lib\\site-packages (from imbalanced-learn) (2.2.0)\n",
      "Requirement already satisfied: scikit-learn>=1.0.2 in c:\\users\\russe\\anaconda3\\envs\\tf-gpu\\lib\\site-packages (from imbalanced-learn) (1.2.0)\n",
      "Requirement already satisfied: joblib>=1.1.1 in c:\\users\\russe\\anaconda3\\envs\\tf-gpu\\lib\\site-packages (from imbalanced-learn) (1.1.1)\n",
      "Requirement already satisfied: scipy>=1.3.2 in c:\\users\\russe\\anaconda3\\envs\\tf-gpu\\lib\\site-packages (from imbalanced-learn) (1.9.1)\n",
      "Collecting redis\n",
      "  Using cached redis-4.5.5-py3-none-any.whl (240 kB)\n",
      "Collecting hiredis\n",
      "  Downloading hiredis-2.2.3-cp39-cp39-win_amd64.whl (21 kB)\n",
      "Requirement already satisfied: async-timeout>=4.0.2 in c:\\users\\russe\\anaconda3\\envs\\tf-gpu\\lib\\site-packages (from redis->delayed) (4.0.2)\n",
      "Installing collected packages: redis, hiredis, delayed\n",
      "Successfully installed delayed-0.11.0b1 hiredis-2.2.3 redis-4.5.5\n"
     ]
    },
    {
     "name": "stderr",
     "output_type": "stream",
     "text": [
      "WARNING: Ignoring invalid distribution -cipy (c:\\users\\russe\\anaconda3\\envs\\tf-gpu\\lib\\site-packages)\n",
      "WARNING: Ignoring invalid distribution -cipy (c:\\users\\russe\\anaconda3\\envs\\tf-gpu\\lib\\site-packages)\n",
      "WARNING: Ignoring invalid distribution -cipy (c:\\users\\russe\\anaconda3\\envs\\tf-gpu\\lib\\site-packages)\n",
      "WARNING: Ignoring invalid distribution -cipy (c:\\users\\russe\\anaconda3\\envs\\tf-gpu\\lib\\site-packages)\n",
      "WARNING: Ignoring invalid distribution -cipy (c:\\users\\russe\\anaconda3\\envs\\tf-gpu\\lib\\site-packages)\n",
      "WARNING: Ignoring invalid distribution -cipy (c:\\users\\russe\\anaconda3\\envs\\tf-gpu\\lib\\site-packages)\n",
      "WARNING: Ignoring invalid distribution -cipy (c:\\users\\russe\\anaconda3\\envs\\tf-gpu\\lib\\site-packages)\n",
      "WARNING: Ignoring invalid distribution -cipy (c:\\users\\russe\\anaconda3\\envs\\tf-gpu\\lib\\site-packages)\n",
      "WARNING: Ignoring invalid distribution -cipy (c:\\users\\russe\\anaconda3\\envs\\tf-gpu\\lib\\site-packages)\n"
     ]
    }
   ],
   "source": [
    "# Install a pip package in the current Jupyter kernel\n",
    "# import sys\n",
    "# !{sys.executable} -m pip install imbalanced-learn delayed"
   ]
  },
  {
   "cell_type": "markdown",
   "metadata": {},
   "source": [
    "# Exercises\n",
    "\n",
    "## Exercise 1 : Hyperparameter Tuning (20 points)\n",
    "\n",
    "Use either grid search or random search methodology to find the optimal number of nodes required in each hidden layer, as well as the optimal learning rate and the number of epochs, such that the accuracy of the model is maximum for the given Dry_Beans_Dataset.\n",
    "\n",
    "__Requirements :__\n",
    "- The set of optimal hyperparameters\n",
    "- The maximum accuracy achieved using this set of optimal hyperparameters\n",
    "\n",
    "__Note :__ Hyperparameter tuning takes a lot of time to execute. Make sure that you choose the appropriate number of each hyperparameter (preferably 3 of each), and that you allocate enough time to execute your code."
   ]
  },
  {
   "cell_type": "code",
   "execution_count": 3,
   "metadata": {},
   "outputs": [
    {
     "name": "stderr",
     "output_type": "stream",
     "text": [
      "C:\\Users\\russe\\AppData\\Local\\Temp\\ipykernel_40828\\2546947687.py:53: DeprecationWarning: KerasClassifier is deprecated, use Sci-Keras (https://github.com/adriangb/scikeras) instead. See https://www.adriangb.com/scikeras/stable/migration.html for help migrating.\n",
      "  model = KerasClassifier(build_fn=create_model, epochs=50, batch_size=32, verbose=0)\n"
     ]
    },
    {
     "name": "stdout",
     "output_type": "stream",
     "text": [
      "Best parameters:  {'dropout_rate': 0.2, 'learning_rate': 0.001, 'neurons_layer1': 128, 'neurons_layer2': 64, 'num_layers': 2}\n",
      "Best accuracy: 11.24%\n"
     ]
    }
   ],
   "source": [
    "import pandas as pd \n",
    "\n",
    "from sklearn.model_selection import GridSearchCV\n",
    "from sklearn.model_selection import train_test_split\n",
    "from sklearn.neural_network import MLPClassifier\n",
    "from sklearn.metrics import accuracy_score\n",
    "from sklearn.preprocessing import StandardScaler\n",
    "from tensorflow.keras.models import Sequential\n",
    "from tensorflow.keras.layers import Dense, Dropout\n",
    "from keras.wrappers.scikit_learn import KerasClassifier\n",
    "from tensorflow.keras.optimizers import SGD\n",
    "\n",
    "# read in dataset\n",
    "df = pd.read_csv('Dry_Beans_Dataset.csv')\n",
    "\n",
    "# split data into target and label\n",
    "X = df.drop('Class', axis = 1)\n",
    "y = df['Class']\n",
    "\n",
    "# scale data \n",
    "scaler = StandardScaler()\n",
    "X = scaler.fit_transform(X)\n",
    "\n",
    "# split data into train and test sets\n",
    "# X_train, X_val, y_train, y_val = train_test_split(X, y, test_size=0.2, random_state=42)\n",
    "train_size = int(0.8 * len(X))\n",
    "train_data, train_labels = X[:train_size], y[:train_size]\n",
    "test_data, test_labels = X[train_size:], y[train_size:]\n",
    "\n",
    "# intialize grid parameters\n",
    "param_grid = {\n",
    "    'learning_rate': [0.001, 0.01],\n",
    "    'dropout_rate': [0.2, 0.3],\n",
    "    'num_layers': [2, 3],\n",
    "    'neurons_layer1': [64, 128],\n",
    "    'neurons_layer2': [32, 64]\n",
    "}\n",
    "\n",
    "def create_model(num_layers=2, learning_rate=0.001, dropout_rate=0.2, neurons_layer1=64, neurons_layer2=32):\n",
    "    model = Sequential()\n",
    "    model.add(Dense(neurons_layer1, activation='relu', input_shape=(X.shape[1],)))\n",
    "    model.add(Dropout(dropout_rate))\n",
    "    for i in range(num_layers - 1):\n",
    "        model.add(Dense(neurons_layer2, activation='relu'))\n",
    "        model.add(Dropout(dropout_rate))\n",
    "    model.add(Dense(1, activation='sigmoid'))\n",
    "\n",
    "    optimizer = SGD()\n",
    "    model.compile(optimizer=optimizer, loss='mse', metrics=['accuracy'])\n",
    "    return model\n",
    "\n",
    "# Create the grid search object\n",
    "model = KerasClassifier(build_fn=create_model, epochs=50, batch_size=32, verbose=0)\n",
    "# 3 is the number of folds in k-fold cross validation. one fold for validation and k-1 folds used for training\n",
    "# for each combination of parameters, the model is trained on the training data and tested o the validation data.\n",
    "# the average performance of the model (with the selected combination of parameters) over k-folds is used as the estimate for the model's perfromance for tha particular combination of hyperparameters. \n",
    "\n",
    "grid = GridSearchCV(estimator=model, param_grid=param_grid, n_jobs=-1, cv=3)\n",
    "\n",
    "# train the model with grid search\n",
    "grid_result = grid.fit(train_data, train_labels)\n",
    "\n",
    "# print the best hyperparameters and accuracy\n",
    "print(\"Best parameters: \", grid_result.best_params_)\n",
    "print(\"Best accuracy: {:.2f}%\".format(grid_result.best_score_ * 100))"
   ]
  },
  {
   "cell_type": "markdown",
   "metadata": {},
   "source": [
    "## Exercise 2 - General Data Preprocessing (10 points)\n",
    "\n",
    "Our dataset needs cleaning before building any models. Some of the cleaning tasks are common in general, but depends on what kind of models we are building, sometimes we have to do additional processing. These additional tasks will be mentioned in each of the remaining two exercises later.\n",
    "\n",
    "Note that **we will be using this processed data from exercise 1 in each of the remaining two exercises**.\n",
    "\n",
    "For convenience, here are the attributes that we would treat them as **categorical attributes**: `day`, `quarter`, `department`, and `team`. \n",
    "\n",
    " - Drop the column `date`.\n",
    " - For each of the categorical attributes, **print out** all the unique elements.\n",
    " - For each of the categorical attributes, remap the duplicated items, if you find there are typos or spaces among the duplicated items.\n",
    "     - For example, \"a\" and \"a \" should be the same, so we need to update \"a \" to be \"a\".\n",
    "     - Another example, \"apple\" and \"appel\" should be the same, so you should update \"appel\" to be \"apple\".\n",
    "     \n",
    "\n",
    " - Create another column named `satisfied` that records the productivity performance. The behavior defined as follows. **This is the dependent variable we'd like to classify in this assignment.**\n",
    "     - Return True or 1 if `actual_productivity` is equal to or greater than `targeted_productivity`. Otherwise, return False or 0, which means the team fails to meet the expected performance.\n",
    " - Drop the columns `actual_productivity` and `targeted_productivity`.\n",
    "\n",
    "\n",
    " - Find and **print out** which columns/attributes that have empty vaules, e.g., NA, NaN, null, None.\n",
    " - Fill the empty values with 0.\n"
   ]
  },
  {
   "cell_type": "code",
   "execution_count": 4,
   "metadata": {},
   "outputs": [
    {
     "name": "stdout",
     "output_type": "stream",
     "text": [
      "\n",
      "Unique elements of 'quarter':\n",
      "Quarter1\n",
      "Quarter2\n",
      "Quarter3\n",
      "Quarter4\n",
      "Quarter5\n",
      "\n",
      "Unique elements of 'department':\n",
      "sweing\n",
      "finishing \n",
      "finishing\n",
      "\n",
      "Unique elements of 'day':\n",
      "Thursday\n",
      "Saturday\n",
      "Sunday\n",
      "Monday\n",
      "Tuesday\n",
      "Wednesday\n",
      "\n",
      "Columns with empty values: ['wip']\n"
     ]
    }
   ],
   "source": [
    "# If put the data(.csv) under the same folder, you could use\n",
    "# df = pd.read_csv('./garments_worker_productivity.csv')\n",
    "# read in data\n",
    "df = pd.read_csv('garments_worker_productivity.csv')\n",
    "\n",
    "# drop 'date' column\n",
    "df = df.drop('date', axis=1)\n",
    "\n",
    "# print categorical attributes\n",
    "categorical_attributes = ['quarter', 'department', 'day']\n",
    "for attribute in categorical_attributes:\n",
    "    unique_elements = df[attribute].unique()\n",
    "    print(f\"\\nUnique elements of '{attribute}':\")\n",
    "    for element in unique_elements:\n",
    "        print(element)\n",
    "\n",
    "# remap duplicate items (typos)\n",
    "remap_dict = {\n",
    "    'department': {'finishing ': 'finishing'}\n",
    "}\n",
    "df.replace(remap_dict, inplace=True)\n",
    "\n",
    "# create 'satisifed' column \n",
    "df['satisfied'] = df['actual_productivity'] >= df['targeted_productivity']\n",
    "df['satisfied'] = df['satisfied'].astype(int)\n",
    "\n",
    "# drop 'actual_productivity' column and 'targeted_productivity' column\n",
    "df = df.drop(['actual_productivity', 'targeted_productivity'], axis=1)\n",
    "\n",
    "# find columns with NA values\n",
    "columns_with_empty_values = df.columns[df.isna().any()].tolist()\n",
    "print(\"\\nColumns with empty values:\", columns_with_empty_values)\n",
    "\n",
    "# fill empty values with 0\n",
    "df.fillna(0, inplace=True)"
   ]
  },
  {
   "cell_type": "markdown",
   "metadata": {},
   "source": [
    "## Exercise 3 - Naïve Bayes Classifier (35 points in total)\n",
    "\n",
    "### Exercise 3.1 - Additional Data Preprocessing (5 points)\n",
    "\n",
    "To build a Naïve Bayes Classifier, we need to further encode our categorical variables.\n",
    "\n",
    " - For each of the **categorical attribtues**, encode the set of categories to be **0 ~ (n_classes - 1)**.\n",
    "     - For example, \\[\"paris\", \"paris\", \"tokyo\", \"amsterdam\"\\] should be encoded as \\[1, 1, 2, 0\\].\n",
    "     - Note that the order does not really matter, i.e., \\[0, 0, 1, 2\\] also works. But you have to start with 0 in your encodings.\n",
    "     - You can find information about this encoding in the discussion materials.\n",
    "\n",
    "\n",
    " - Split the data into training and testing set with the ratio of 80:20."
   ]
  },
  {
   "cell_type": "code",
   "execution_count": 5,
   "metadata": {},
   "outputs": [
    {
     "name": "stdout",
     "output_type": "stream",
     "text": [
      "(957, 12) (240, 12)\n"
     ]
    }
   ],
   "source": [
    "# Remember to continue the task with your processed data from Exercise 1\n",
    "from sklearn.preprocessing import LabelEncoder\n",
    "from sklearn.model_selection import train_test_split\n",
    "from sklearn import preprocessing\n",
    "\n",
    "df_nb = df.copy()\n",
    "# get all categorical attributes\n",
    "df_nb = pd.DataFrame(preprocessing.OrdinalEncoder().fit_transform(df_nb), columns=df_nb.columns)\n",
    "# split data into 80:20 ratio\n",
    "nb_train, nb_test = train_test_split(df_nb, test_size=0.2)\n",
    "\n",
    "# encode the data \n",
    "X_nb_train, y_nb_train = nb_train.drop(columns=['satisfied']), nb_train['satisfied']\n",
    "X_nb_test, y_nb_test = nb_test.drop(columns=['satisfied']), nb_test['satisfied']\n",
    "print(X_nb_train.shape, X_nb_test.shape)"
   ]
  },
  {
   "cell_type": "markdown",
   "metadata": {},
   "source": [
    "### Exercise 3.2 - Naïve Bayes Classifier for Categorical Attributes (15 points)\n",
    "\n",
    "Use the categorical attributes **only**, please build a Categorical Naïve Bayes classifier that predicts the column `satisfied`. <br >\n",
    "Report the **testing result** using `classification_report`."
   ]
  },
  {
   "cell_type": "code",
   "execution_count": 6,
   "metadata": {},
   "outputs": [
    {
     "name": "stdout",
     "output_type": "stream",
     "text": [
      "              precision    recall  f1-score   support\n",
      "\n",
      "         0.0       0.36      0.06      0.11        62\n",
      "         1.0       0.75      0.96      0.84       178\n",
      "\n",
      "    accuracy                           0.73       240\n",
      "   macro avg       0.56      0.51      0.47       240\n",
      "weighted avg       0.65      0.73      0.65       240\n",
      "\n"
     ]
    }
   ],
   "source": [
    "# Remember to do this task with your processed data from Exercise 2.1\n",
    "from sklearn.naive_bayes import CategoricalNB\n",
    "from sklearn.metrics import classification_report\n",
    "\n",
    "clf_cat = CategoricalNB()\n",
    "\n",
    "clf_cat.fit(X_nb_train[categorical_attributes], y_nb_train)\n",
    "\n",
    "print(classification_report(y_nb_test, clf_cat.predict(X_nb_test[categorical_attributes])))"
   ]
  },
  {
   "cell_type": "markdown",
   "metadata": {},
   "source": [
    "### Exercise 3.3 - Naïve Bayes Classifier for Numerical Attributes (15 points)\n",
    "\n",
    "Use the numerical attributes **only**, please build a Gaussian Naïve Bayes classifier that predicts the column `satisfied`. <br >\n",
    "Report the **testing result** using `classification_report`.\n",
    "\n",
    "**Remember to scale your data. The scaling method is up to you.**"
   ]
  },
  {
   "cell_type": "code",
   "execution_count": 7,
   "metadata": {},
   "outputs": [
    {
     "name": "stdout",
     "output_type": "stream",
     "text": [
      "              precision    recall  f1-score   support\n",
      "\n",
      "         0.0       1.00      0.03      0.06        62\n",
      "         1.0       0.75      1.00      0.86       178\n",
      "\n",
      "    accuracy                           0.75       240\n",
      "   macro avg       0.87      0.52      0.46       240\n",
      "weighted avg       0.81      0.75      0.65       240\n",
      "\n"
     ]
    }
   ],
   "source": [
    "# Remember to do this task with your processed data from Exercise 2.1\n",
    "from sklearn.naive_bayes import GaussianNB\n",
    "import numpy as np\n",
    "\n",
    "# get numerical attributes\n",
    "nums = [col for col in X_nb_train.columns if col not in categorical_attributes]\n",
    "\n",
    "# scale the data\n",
    "scaler = preprocessing.StandardScaler()\n",
    "scaler.fit(X_nb_train[nums])\n",
    "Z_nb_train = scaler.transform(X_nb_train[nums])\n",
    "Z_nb_test = scaler.transform(X_nb_test[nums])\n",
    "\n",
    "clf_num = GaussianNB()\n",
    "\n",
    "clf_num.fit(Z_nb_train, np.asarray(y_nb_train))\n",
    "\n",
    "print(classification_report(y_nb_test, clf_num.predict(Z_nb_test)))"
   ]
  },
  {
   "cell_type": "markdown",
   "metadata": {},
   "source": [
    "## Exercies 4 - SVM Classifier (35 points in total)\n",
    "\n",
    "### Exercise 4.1 - Additional Data Preprocessing (5 points)\n",
    "\n",
    "To build a SVM Classifier, we need a different encoding for our categorical variables.\n",
    "\n",
    " - For each of the **categorical attribtues**, encode them with **one-hot encoding**.\n",
    "     - You can find information about this encoding in the discussion materials.\n",
    "\n",
    "\n",
    " - Split the data into training and testing set with the ratio of 80:20.\n"
   ]
  },
  {
   "cell_type": "code",
   "execution_count": 8,
   "metadata": {},
   "outputs": [],
   "source": [
    "# Remember to continue the task with your processed data from Exercise 1\n",
    "nums = [col for col in df.drop(columns=['satisfied']).columns if col not in categorical_attributes]\n",
    "df_svm = df.copy()\n",
    "# encode with one-hot encoding \n",
    "df_svm = pd.get_dummies(df_svm, columns=categorical_attributes)\n",
    "\n",
    "# split data into 80:20 ratio\n",
    "svm_train, svm_test = train_test_split(df_svm, test_size=0.2)\n",
    "\n",
    "X_svm_train, y_svm_train = svm_train.drop(columns=['satisfied']), svm_train['satisfied']\n",
    "X_svm_test, y_svm_test = svm_test.drop(columns=['satisfied']), svm_test['satisfied']"
   ]
  },
  {
   "cell_type": "markdown",
   "metadata": {},
   "source": [
    "### Exercise 4.2 - SVM with Different Kernels (20 points)\n",
    "\n",
    "Using all the attributes we have, please build a SVM that predicts the column `satisfied`. <br >\n",
    "Specifically, please \n",
    " - Build one SVM with **linear kernel**.\n",
    " - Build another SVM but with **rbf kernel**.\n",
    " - Report the **testing results** of **both models** using `classification report`.\n",
    "\n",
    "The kernel is the only setting requirement. <br >\n",
    "Other hyperparameter tuning is not required. But make sure they are the same in these two SVMs if you'd like to tune the model. In other words, the only difference between the two SVMs should be the kernel setting.\n",
    "\n",
    "**Remember to scale your data. The scaling method is up to you.**"
   ]
  },
  {
   "cell_type": "code",
   "execution_count": 9,
   "metadata": {},
   "outputs": [
    {
     "name": "stdout",
     "output_type": "stream",
     "text": [
      "Linear Kernel\n",
      "              precision    recall  f1-score   support\n",
      "\n",
      "           0       1.00      0.03      0.06        64\n",
      "           1       0.74      1.00      0.85       176\n",
      "\n",
      "    accuracy                           0.74       240\n",
      "   macro avg       0.87      0.52      0.46       240\n",
      "weighted avg       0.81      0.74      0.64       240\n",
      "\n",
      "RBF Kernel\n",
      "              precision    recall  f1-score   support\n",
      "\n",
      "           0       0.53      0.14      0.22        64\n",
      "           1       0.75      0.95      0.84       176\n",
      "\n",
      "    accuracy                           0.74       240\n",
      "   macro avg       0.64      0.55      0.53       240\n",
      "weighted avg       0.69      0.74      0.68       240\n",
      "\n"
     ]
    }
   ],
   "source": [
    "# Remember to do this task with your processed data from Exercise 3.1\n",
    "from sklearn.svm import SVC\n",
    "\n",
    "# scale the data\n",
    "scaler = preprocessing.StandardScaler()\n",
    "scaler.fit(X_svm_train)\n",
    "Z_svm_train = scaler.transform(X_svm_train)\n",
    "Z_svm_test = scaler.transform(X_svm_test)\n",
    "\n",
    "# build SVM with linear kernel\n",
    "svc_li = SVC(kernel='linear')\n",
    "svc_li.fit(Z_svm_train, np.asarray(y_svm_train))\n",
    "\n",
    "# print classification report for SVM with linear kernel\n",
    "print('Linear Kernel')\n",
    "print(classification_report(y_svm_test, svc_li.predict(Z_svm_test)))\n",
    "\n",
    "# build SVM with RBF kernel\n",
    "svc_rbf = SVC(kernel='rbf')\n",
    "svc_rbf.fit(Z_svm_train, np.asarray(y_svm_train))\n",
    "\n",
    "# print classification report for SVM with RBF kernel\n",
    "print(\"RBF Kernel\")\n",
    "print(classification_report(y_svm_test, svc_rbf.predict(Z_svm_test)))"
   ]
  },
  {
   "cell_type": "markdown",
   "metadata": {},
   "source": [
    "### Exercise 4.3 - SVM with Over-sampling (10 points)\n",
    " - For the column `satisfied` in our **training set**, please **print out** the frequency of each class. \n",
    " - Oversample the **training data**. \n",
    " - For the column `satisfied` in the oversampled data, **print out** the frequency of each class  again.\n",
    " - Re-build the 2 SVMs with the same setting you have in Exercise 3.2, but **use oversampled training data** instead.\n",
    "     - Do not forget to scale the data first. As always, the scaling method is up to you.\n",
    " - Report the **testing result** with `classification_report`.\n",
    "\n",
    "You can use ANY methods listed on [here](https://imbalanced-learn.org/stable/references/over_sampling.html#) such as RandomOverSampler or SMOTE. <br > \n",
    "You are definitely welcomed to build your own oversampler. <br >\n",
    "\n",
    "Note that you do not have to over-sample your testing data."
   ]
  },
  {
   "cell_type": "code",
   "execution_count": 15,
   "metadata": {},
   "outputs": [
    {
     "name": "stdout",
     "output_type": "stream",
     "text": [
      "1    699\n",
      "0    258\n",
      "Name: satisfied, dtype: int64\n",
      "1    699\n",
      "0    699\n",
      "Name: satisfied, dtype: int64\n",
      "              precision    recall  f1-score   support\n",
      "\n",
      "           0       0.45      0.72      0.55        64\n",
      "           1       0.87      0.68      0.76       176\n",
      "\n",
      "    accuracy                           0.69       240\n",
      "   macro avg       0.66      0.70      0.66       240\n",
      "weighted avg       0.76      0.69      0.70       240\n",
      "\n",
      "              precision    recall  f1-score   support\n",
      "\n",
      "           0       0.47      0.77      0.58        64\n",
      "           1       0.89      0.68      0.77       176\n",
      "\n",
      "    accuracy                           0.70       240\n",
      "   macro avg       0.68      0.72      0.68       240\n",
      "weighted avg       0.78      0.70      0.72       240\n",
      "\n"
     ]
    }
   ],
   "source": [
    "# Remember to do this task with your processed data from Exercise 3.1\n",
    "from imblearn.over_sampling import RandomOverSampler\n",
    "\n",
    "# print frequency of each class\n",
    "print(y_svm_train.value_counts())\n",
    "\n",
    "# oversample training data\n",
    "ros = RandomOverSampler()\n",
    "X_os, y_os = ros.fit_resample(X_svm_train, y_svm_train)\n",
    "\n",
    "# print frequency of each class in oversampled data \n",
    "print(y_os.value_counts())\n",
    "\n",
    "# scale the data\n",
    "X_os = scaler.transform(X_os)\n",
    "\n",
    "# fit the SVM models\n",
    "svc_li.fit(X_os, np.asarray(y_os))\n",
    "svc_rbf.fit(X_os, np.asarray(y_os))\n",
    "\n",
    "# generate classification reports\n",
    "print(classification_report(y_svm_test, svc_li.predict(Z_svm_test)))\n",
    "print(classification_report(y_svm_test, svc_rbf.predict(Z_svm_test)))"
   ]
  }
 ],
 "metadata": {
  "kernelspec": {
   "display_name": "Python 3 (ipykernel)",
   "language": "python",
   "name": "python3"
  },
  "language_info": {
   "codemirror_mode": {
    "name": "ipython",
    "version": 3
   },
   "file_extension": ".py",
   "mimetype": "text/x-python",
   "name": "python",
   "nbconvert_exporter": "python",
   "pygments_lexer": "ipython3",
   "version": "3.9.16"
  }
 },
 "nbformat": 4,
 "nbformat_minor": 4
}
