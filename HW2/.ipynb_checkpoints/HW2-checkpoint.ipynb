{
 "cells": [
  {
   "cell_type": "markdown",
   "id": "0ceeeb46",
   "metadata": {},
   "source": [
    "# Homework 2\n",
    "\n",
    "For this assignment, you will be developing an artificial neural network to classify data given in the __[Dry Beans Data Set](https://archive.ics.uci.edu/ml/datasets/Dry+Bean+Dataset#)__. This data set was obtained as a part of a research study by Selcuk University, Turkey, in which a computer vision system was developed to distinguish seven different registered varieties of dry beans with similar features. More details on the study can be found in the following __[research paper](https://www.sciencedirect.com/science/article/pii/S0168169919311573)__.\n",
    "\n",
    "## About the Data Set For Q1-2\n",
    "Seven different types of dry beans were used in a study in Selcuk University, Turkey, taking into account the features such as form, shape, type, and structure by the market situation. A computer vision system was developed to distinguish seven different registered varieties of dry beans with similar features in order to obtain uniform seed classification. For the classification model, images of 13611 grains of 7 different registered dry beans were taken with a high-resolution camera. Bean images obtained by computer vision system were subjected to segmentation and feature extraction stages, and a total of 16 features - 12 dimensions and 4 shape forms - were obtained from the grains.\n",
    "\n",
    "Number of Instances (records in the data set): __13611__\n",
    "\n",
    "Number of Attributes (fields within each record, including the class): __17__\n",
    "\n",
    "### Data Set Attribute Information:\n",
    "\n",
    "1. __Area (A)__ : The area of a bean zone and the number of pixels within its boundaries.\n",
    "2. __Perimeter (P)__ : Bean circumference is defined as the length of its border.\n",
    "3. __Major axis length (L)__ : The distance between the ends of the longest line that can be drawn from a bean.\n",
    "4. __Minor axis length (l)__ : The longest line that can be drawn from the bean while standing perpendicular to the main axis.\n",
    "5. __Aspect ratio (K)__ : Defines the relationship between L and l.\n",
    "6. __Eccentricity (Ec)__ : Eccentricity of the ellipse having the same moments as the region.\n",
    "7. __Convex area (C)__ : Number of pixels in the smallest convex polygon that can contain the area of a bean seed.\n",
    "8. __Equivalent diameter (Ed)__ : The diameter of a circle having the same area as a bean seed area.\n",
    "9. __Extent (Ex)__ : The ratio of the pixels in the bounding box to the bean area.\n",
    "10. __Solidity (S)__ : Also known as convexity. The ratio of the pixels in the convex shell to those found in beans.\n",
    "11. __Roundness (R)__ : Calculated with the following formula: (4piA)/(P^2)\n",
    "12. __Compactness (CO)__ : Measures the roundness of an object: Ed/L\n",
    "13. __ShapeFactor1 (SF1)__\n",
    "14. __ShapeFactor2 (SF2)__\n",
    "15. __ShapeFactor3 (SF3)__\n",
    "16. __ShapeFactor4 (SF4)__\n",
    "\n",
    "17. __Classes : *Seker, Barbunya, Bombay, Cali, Dermosan, Horoz, Sira*__\n",
    "\n",
    "### Libraries that can be used :\n",
    "- NumPy, SciPy, Pandas, Sci-Kit Learn, TensorFlow, Keras\n",
    "- Any other library used during the lectures and discussion sessions.\n",
    "\n",
    "## About the Data Set For Q3\n",
    "In this problem, we will be exploring the car dataset and analyzing their fuel efficiency. <br >\n",
    "Specifically, we will do some exploratory analysis with visualizations, then we will build a model for Simple Linear Regression, a model for Polynomial Regression, and one model for Logistic Regression. <br >\n",
    "**The given dataset is already modified and cleaned**, but you can find [the original information here.](https://archive.ics.uci.edu/ml/datasets/auto+mpg).\n",
    "\n",
    "## Dataset Attribute Information\n",
    "\n",
    "1. **mpg**: Miles per gallon. This is one primary measurement for car fuel efficiency.\n",
    "2. **displacement** : The cylinder volumes in cubic inches.\n",
    "3. **horsepower** : Engine power.\n",
    "4. **weight** : In pounds.\n",
    "5. **acceleration** : The elapsed time in seconds to go from 0 to 60mph.\n",
    "6. **origin** : Region of origin.\n",
    "\n",
    "### Libraries that can be used: numpy, pandas, scikit-learn, seaborn, plotly, matplotlib\n",
    "Any libraries used in the discussion materials are also allowed.\n",
    "\n",
    "\n",
    "### Other Notes\n",
    "- Don't worry about not being able to achieve high accuracy, it is neither the goal nor the grading standard of this assignment.\n",
    "- Discussion materials should be helpful for doing the assignments.\n",
    "- The homework submission should be a .ipynb file.\n"
   ]
  },
  {
   "cell_type": "code",
   "execution_count": 1,
   "id": "c1eef115",
   "metadata": {},
   "outputs": [],
   "source": [
    "# imports\n",
    "import pandas as pd\n",
    "import numpy as np\n",
    "import matplotlib.pyplot as plt\n",
    "from sklearn.model_selection import train_test_split\n",
    "from sklearn.model_selection import cross_validate, KFold\n",
    "from sklearn.linear_model import LinearRegression\n",
    "from sklearn.linear_model import LogisticRegression\n",
    "from sklearn.preprocessing import PolynomialFeatures\n",
    "from sklearn.preprocessing import MinMaxScaler\n",
    "from sklearn.metrics import mean_squared_error, r2_score, accuracy_score, precision_score, recall_score\n",
    "from sklearn.metrics import classification_report, confusion_matrix, multilabel_confusion_matrix\n",
    "from sklearn.neural_network import MLPClassifier"
   ]
  },
  {
   "cell_type": "markdown",
   "id": "0264c751",
   "metadata": {},
   "source": [
    "\n",
    "## Exercise 1 : Building a Feed-Forward Neural Network(50 points in total)\n",
    "\n",
    "### Exercise 1.1 : Data Preprocessing (10 points)\n",
    "\n",
    "- As the classes are categorical, use one-hot encoding to represent the set of classes. You will find this useful when developing the output layer of the neural network.\n",
    "- Normalize each field of the input data using the min-max normalization technique.\n",
    "\n",
    "### Exercise 1.2 : Training and Testing the Neural Network (40 points)\n",
    "\n",
    "Design a 4-layer artificial neural network, specifically a feed-forward multi-layer perceptron (using the sigmoid activation function), to classify the type of 'Dry Bean' given the other attributes in the data set, similar to the one mentioned in the paper above. Please note that this is a multi-class classification problem so select the right number of nodes accordingly for the output layer.\n",
    "\n",
    "For training and testing the model, split the data into training and testing set by __90:10__ and use the training set for training the model and the test set to evaluate the model performance.\n",
    "\n",
    "Consider the following hyperparameters while developing your model :\n",
    "\n",
    "- Number of nodes in each hidden layer should be (12, 3)\n",
    "- Learning rate should be 0.3\n",
    "- Number of epochs should be 500\n",
    "- The sigmoid function should be used as the activation function in each layer\n",
    "- Stochastic Gradient Descent should be used to minimize the error rate\n",
    "\n",
    "__Requirements once the model has been trained :__\n",
    "\n",
    "- A confusion matrix for all classes, specifying the true positive, true negative, false positive, and false negative cases for each category in the class\n",
    "- The accuracy and mean squared error (MSE) of the model\n",
    "- The precision and recall for each label in the class\n",
    "\n",
    "__Notes :__\n",
    "\n",
    "- Splitting of the dataset should be done __after__ the data preprocessing step.\n",
    "- The mean squared error (MSE) values obtained __should be positive__.\n"
   ]
  },
  {
   "cell_type": "code",
   "execution_count": 2,
   "id": "9f13410d",
   "metadata": {},
   "outputs": [],
   "source": [
    "# 1.1\n",
    "# import dataset Dry_Beans_Dataset.csv\n",
    "df = pd.read_csv('Dry_Beans_Dataset.csv')\n",
    "\n",
    "# define X and y\n",
    "X = df.drop('Class', axis = 1)\n",
    "y = df['Class']\n",
    "\n",
    "# normalize data with one hot encoding\n",
    "scaler = MinMaxScaler(feature_range=(0, 1))\n",
    "X_rescaled = scaler.fit_transform(X)\n",
    "X = pd.DataFrame(data = X_rescaled, columns = X.columns)\n",
    "\n",
    "set_of_classes = y.value_counts().index.tolist()\n",
    "set_of_classes= pd.DataFrame({'Class': set_of_classes})\n",
    "y = pd.get_dummies(y)\n",
    "\n",
    "# split the data into training and testing sets with ratio 90:10 and use random_state=42 for consistency\n",
    "data_train, data_test, class_train, class_test = train_test_split(X, y, test_size=0.1, random_state=42)"
   ]
  },
  {
   "cell_type": "code",
   "execution_count": 5,
   "id": "537bb0ab",
   "metadata": {},
   "outputs": [],
   "source": [
    "# 1.2\n",
    "# define our MLP model\n",
    "mlp = MLPClassifier(solver = 'sgd', random_state = 42, activation = 'logistic', \n",
    "                    learning_rate_init = 0.3, batch_size = 100, \n",
    "                    hidden_layer_sizes = (12, 3), max_iter = 500)"
   ]
  },
  {
   "cell_type": "code",
   "execution_count": 6,
   "id": "b9865bf1",
   "metadata": {},
   "outputs": [],
   "source": [
    "# fit our model and predict on testing set\n",
    "mlp.fit(data_train, class_train)\n",
    "pred = mlp.predict(data_test)"
   ]
  },
  {
   "cell_type": "code",
   "execution_count": 7,
   "id": "b0cb6972",
   "metadata": {},
   "outputs": [
    {
     "name": "stdout",
     "output_type": "stream",
     "text": [
      "Accuracy: 0.8964757709251101\n",
      "Mean Square Error: 0.0250681770505559\n",
      "\n",
      "Confusion Matrix for each label:\n",
      "[[[1208   17]\n",
      "  [   8  129]]\n",
      "\n",
      " [[1299    0]\n",
      "  [   0   63]]\n",
      "\n",
      " [[1156   11]\n",
      "  [  17  178]]\n",
      "\n",
      " [[ 990   30]\n",
      "  [  38  304]]\n",
      "\n",
      " [[1165   16]\n",
      "  [   8  173]]\n",
      "\n",
      " [[1155    7]\n",
      "  [  12  188]]\n",
      "\n",
      " [[1091   27]\n",
      "  [  48  196]]]\n",
      "\n",
      "Classification Report:\n",
      "              precision    recall  f1-score   support\n",
      "\n",
      "           0       0.88      0.94      0.91       137\n",
      "           1       1.00      1.00      1.00        63\n",
      "           2       0.94      0.91      0.93       195\n",
      "           3       0.91      0.89      0.90       342\n",
      "           4       0.92      0.96      0.94       181\n",
      "           5       0.96      0.94      0.95       200\n",
      "           6       0.88      0.80      0.84       244\n",
      "\n",
      "   micro avg       0.92      0.90      0.91      1362\n",
      "   macro avg       0.93      0.92      0.92      1362\n",
      "weighted avg       0.92      0.90      0.91      1362\n",
      " samples avg       0.93      0.90      0.90      1362\n",
      "\n"
     ]
    }
   ],
   "source": [
    "print(\"Accuracy:\", accuracy_score(class_test, pred))\n",
    "print(\"Mean Square Error:\", mean_squared_error(class_test, pred))\n",
    "\n",
    "print(\"\\nConfusion Matrix for each label:\")\n",
    "print(multilabel_confusion_matrix(class_test, pred))\n",
    "\n",
    "print(\"\\nClassification Report:\")\n",
    "print(classification_report(class_test, pred, zero_division=1))"
   ]
  },
  {
   "cell_type": "markdown",
   "id": "083f5188",
   "metadata": {},
   "source": [
    "## Exercise 2 : k-fold Cross Validation (10 points in total)\n",
    "\n",
    "In order to avoid using biased models, use 10-fold cross validation to generalize the model based on the given data set.\n",
    "\n",
    "__Requirements :__\n",
    "- The accuracy and MSE values during each iteration of the cross validation\n",
    "- The overall average accuracy and MSE value\n",
    "\n",
    "__Note :__ The mean squared error (MSE) values obtained should be positive."
   ]
  },
  {
   "cell_type": "code",
   "execution_count": 8,
   "id": "b948ce42",
   "metadata": {},
   "outputs": [
    {
     "name": "stdout",
     "output_type": "stream",
     "text": [
      "Accuracy:\n",
      " [0.86857562 0.84864071 0.89346069 0.87068332 0.90301249 0.88905217\n",
      " 0.86480529 0.90521675 0.87215283 0.90007348]\n",
      "MSE\n",
      " [0.02611705 0.03012491 0.02340716 0.02939015 0.02099297 0.02340716\n",
      " 0.02823554 0.02204262 0.02813058 0.02351212]\n"
     ]
    }
   ],
   "source": [
    "# perform 10-fold cross validation and get accuracy and MSE\n",
    "CV = cross_validate(mlp, X, y, cv=10, scoring=['accuracy', 'neg_mean_squared_error'])\n",
    "\n",
    "# print accuracy and MSE for each iteration of the cross validation\n",
    "print('Accuracy:\\n', CV['test_accuracy'])\n",
    "print('MSE\\n', -1*CV['test_neg_mean_squared_error'])"
   ]
  },
  {
   "cell_type": "code",
   "execution_count": 9,
   "id": "95973440",
   "metadata": {},
   "outputs": [
    {
     "name": "stdout",
     "output_type": "stream",
     "text": [
      "Average Accuracy = 0.8815673346345274\n",
      "Average MSE = 0.02553602582782345\n"
     ]
    }
   ],
   "source": [
    "# compute and print the overall average accuracy and MSE \n",
    "print('Average Accuracy =', sum(CV['test_accuracy']) / len(CV['test_accuracy']))\n",
    "print('Average MSE =', sum(-1 * CV['test_neg_mean_squared_error']) / len(CV['test_neg_mean_squared_error']))"
   ]
  },
  {
   "cell_type": "markdown",
   "id": "0f7491c1",
   "metadata": {},
   "source": [
    "## Exercise 3 - Logistic Regression (20 points in total)\n",
    "Recall the dataset from last week homework\n",
    "\n",
    "Now we are going to build a classification model on ``origin`` using all the other 5 attributes. <br >\n",
    "Note that Logistic Regression is a binary classificaiton algorithm.\n",
    "\n",
    "### Exercise 3.1 - Processing and Splitting the Dataset (5 points)\n",
    "In this exercise 3, we only consider those observations where they originate from either \"USA\" or \"Japan\". <br >\n",
    "So please **remove** those observations that originate from \"Europe\". <br >\n",
    "And then, split the data into training and testing set with the ratio of 80:20. <br >"
   ]
  },
  {
   "cell_type": "code",
   "execution_count": 10,
   "id": "c575110e",
   "metadata": {},
   "outputs": [],
   "source": [
    "# import dataset auto-mpg.csv\n",
    "df = pd.read_csv('auto-mpg.csv')\n",
    "\n",
    "# remove all observations that are not from either 'USA' or 'Japan'\n",
    "df = df[df['origin'].isin(['USA', 'Japan'])]\n",
    "\n",
    "# split the data into training and testing sets with ratio 80:20 and use random_state=42 for consistency\n",
    "X_train, X_test, y_train, y_test = train_test_split(df.drop('origin', axis=1), df['origin'], test_size=0.2, random_state=42)"
   ]
  },
  {
   "cell_type": "markdown",
   "id": "89374dbf",
   "metadata": {},
   "source": [
    "### Exercise 3.2 - Logistic Regression (15 points)\n",
    "\n",
    "Using all the other 5 attributes, please build a Logistic Regression model that distinguishes between cars from Japan and cars from the USA. <br >\n",
    "Then, **if we are distinguishing between Japan and Europe this time, how do you think the model performance(in terms of accuracy) will change? Provide your reasoning.** (Hint: Exercise 1)\n",
    "\n",
    "Requirements\n",
    " - Report the testing precision and recall for both regions."
   ]
  },
  {
   "cell_type": "code",
   "execution_count": 11,
   "id": "c0d8cc16",
   "metadata": {},
   "outputs": [
    {
     "name": "stdout",
     "output_type": "stream",
     "text": [
      "              precision    recall  f1-score   support\n",
      "\n",
      "       Japan       0.76      0.94      0.84        17\n",
      "         USA       0.98      0.90      0.93        48\n",
      "\n",
      "    accuracy                           0.91        65\n",
      "   macro avg       0.87      0.92      0.89        65\n",
      "weighted avg       0.92      0.91      0.91        65\n",
      "\n"
     ]
    }
   ],
   "source": [
    "# fit logistic regression model on our data\n",
    "model = LogisticRegression()\n",
    "model.fit(X_train, y_train)\n",
    "\n",
    "# print out classification report for both regions\n",
    "print(classification_report(y_test, model.predict(X_test)))"
   ]
  },
  {
   "cell_type": "markdown",
   "id": "a92eae66",
   "metadata": {},
   "source": [
    "If we are distinguishing between Japan and Europe, the model's accuracy will likely be less accurate because cars in Japan and Europe cars are more similar to each other than US and Japan. "
   ]
  },
  {
   "cell_type": "markdown",
   "id": "b91f7416",
   "metadata": {},
   "source": [
    "## Exercise 4 - Polynomial Regressor using Gradient Descent (20 points in total)\n",
    "Now we are going to look into model fitting. In the dataset cost.csv, the first column is the independent variable cost, and the second column is the dependent variable production_output.\n",
    "\n",
    "### Exercise 4.1 - Split the dataset (5 points)\n",
    "Import the dataset cost.csv and split them into training and testing set with ratio 70:30."
   ]
  },
  {
   "cell_type": "code",
   "execution_count": 12,
   "id": "a010d3d9",
   "metadata": {},
   "outputs": [
    {
     "name": "stdout",
     "output_type": "stream",
     "text": [
      "   production_output       cost\n",
      "0           0.588758  -4.301000\n",
      "1           1.679874  89.065547\n",
      "2           1.217010  11.554992\n",
      "3           0.207285  -8.976411\n",
      "4           0.505954  -4.851820\n"
     ]
    }
   ],
   "source": [
    "# import dataset cost.csv \n",
    "cost_data = pd.read_csv('cost.csv')\n",
    "print(cost_data.head())\n",
    "\n",
    "# define X and y \n",
    "X = cost_data.drop('cost', axis=1)\n",
    "y = cost_data['cost']\n",
    "\n",
    "# split train and test data with ratio 70:30 and use random_state=42 for consistency\n",
    "X_train, X_test, y_train, y_test = train_test_split(X, y, test_size=0.3, random_state=42)"
   ]
  },
  {
   "cell_type": "markdown",
   "id": "531d7f98",
   "metadata": {},
   "source": [
    "### Exercise 4.2 - Polynomial Regression (15 points)\n",
    "Compute the RMSE and R2 for the training and testing set. Using polynomial regression with degree 1, 2, 3, and 4, which model provides the most appropriate prediction? Justify your answer and plot the models fitted line."
   ]
  },
  {
   "cell_type": "code",
   "execution_count": 13,
   "id": "b6db545e",
   "metadata": {},
   "outputs": [
    {
     "name": "stdout",
     "output_type": "stream",
     "text": [
      "Linear Regression RMSE (Training): 438.84\n",
      "Linear Regression R2 score (Training): 0.61\n",
      "Linear Regression RMSE (Testing): 281.08\n",
      "Linear Regression R2 score (Testing): 0.53\n",
      "Polynomial Regression (degree 1) RMSE (Training): 438.84\n",
      "Polynomial Regression (degree 1) R2 score (Training): 0.61\n",
      "Polynomial Regression (degree 1) RMSE (Testing): 281.08\n",
      "Polynomial Regression (degree 1) R2 score (Testing): 0.53\n",
      "Polynomial Regression (degree 2) RMSE (Training): 181.97\n",
      "Polynomial Regression (degree 2) R2 score (Training): 0.93\n",
      "Polynomial Regression (degree 2) RMSE (Testing): 115.35\n",
      "Polynomial Regression (degree 2) R2 score (Testing): 0.92\n",
      "Polynomial Regression (degree 3) RMSE (Training): 39.47\n",
      "Polynomial Regression (degree 3) R2 score (Training): 1.00\n",
      "Polynomial Regression (degree 3) RMSE (Testing): 26.62\n",
      "Polynomial Regression (degree 3) R2 score (Testing): 1.00\n",
      "Polynomial Regression (degree 4) RMSE (Training): 6.00\n",
      "Polynomial Regression (degree 4) R2 score (Training): 1.00\n",
      "Polynomial Regression (degree 4) RMSE (Testing): 6.00\n",
      "Polynomial Regression (degree 4) R2 score (Testing): 1.00\n"
     ]
    },
    {
     "data": {
      "image/png": "[encoded data removed]",
      "text/plain": [
       "<Figure size 720x432 with 1 Axes>"
      ]
     },
     "metadata": {
      "needs_background": "light"
     },
     "output_type": "display_data"
    }
   ],
   "source": [
    "lin_reg = LinearRegression()\n",
    "\n",
    "# fit a linear regression model for the training set\n",
    "lin_reg.fit(X_train, y_train)\n",
    "# compute RMSE and R2 for training set\n",
    "y_pred_train = lin_reg.predict(X_train)\n",
    "rmse_train = np.sqrt(mean_squared_error(y_train, y_pred_train))\n",
    "r2_train = r2_score(y_train, y_pred_train)\n",
    "\n",
    "# fit a linear regression model for the testing set\n",
    "y_pred_test = lin_reg.predict(X_test)\n",
    "# compute RMSE and R2 for testing set\n",
    "rmse_test = np.sqrt(mean_squared_error(y_test, y_pred_test))\n",
    "r2_test = r2_score(y_test, y_pred_test)\n",
    "\n",
    "# print RMSE and R2 for training and testing set\n",
    "print(f'Linear Regression RMSE (Training): {rmse_train:.2f}')\n",
    "print(f'Linear Regression R2 score (Training): {r2_train:.2f}')\n",
    "print(f'Linear Regression RMSE (Testing): {rmse_test:.2f}')\n",
    "print(f'Linear Regression R2 score (Testing): {r2_test:.2f}')\n",
    "\n",
    "degrees = [1, 2, 3, 4]\n",
    "train_rmse_list, train_r2_list = [], []\n",
    "test_rmse_list, test_r2_list = [], []\n",
    "poly_features_list, poly_models = [], []\n",
    "# train polynomial regression models for degrees 1-4\n",
    "for degree in degrees:\n",
    "    poly_features = PolynomialFeatures(degree=degree)\n",
    "    # transform the training and testing set for polynomial regression\n",
    "    X_poly_train = poly_features.fit_transform(X_train)\n",
    "    X_poly_test = poly_features.fit_transform(X_test)\n",
    "    \n",
    "    poly_reg = LinearRegression()\n",
    "    # fit the polynomial regression model\n",
    "    poly_reg.fit(X_poly_train, y_train)\n",
    "    \n",
    "    # compute RMSE and R2 for training set\n",
    "    y_pred_train = poly_reg.predict(X_poly_train)\n",
    "    rmse_train = np.sqrt(mean_squared_error(y_train, y_pred_train))\n",
    "    r2_train = r2_score(y_train, y_pred_train)\n",
    "    \n",
    "    # compute RMSE and R2 for testing set\n",
    "    y_pred_test = poly_reg.predict(X_poly_test)\n",
    "    rmse_test = np.sqrt(mean_squared_error(y_test, y_pred_test))\n",
    "    r2_test = r2_score(y_test, y_pred_test)\n",
    "    \n",
    "    # append the current degree model to a list\n",
    "    poly_features_list.append(poly_features)\n",
    "    poly_models.append(poly_reg)\n",
    "    \n",
    "    # append the calculated RMSE and R2 values to their respective list\n",
    "    train_rmse_list.append(rmse_train)\n",
    "    train_r2_list.append(r2_train)\n",
    "    test_rmse_list.append(rmse_test)\n",
    "    test_r2_list.append(r2_test)\n",
    "\n",
    "# print RMSE and R2 for training and testing set for each polynomial regression model \n",
    "for i in range(len(degrees)):\n",
    "    print(f'Polynomial Regression (degree {degrees[i]}) RMSE (Training): {train_rmse_list[i]:.2f}')\n",
    "    print(f'Polynomial Regression (degree {degrees[i]}) R2 score (Training): {train_r2_list[i]:.2f}')\n",
    "    print(f'Polynomial Regression (degree {degrees[i]}) RMSE (Testing): {test_rmse_list[i]:.2f}')\n",
    "    print(f'Polynomial Regression (degree {degrees[i]}) R2 score (Testing): {test_r2_list[i]:.2f}')\n",
    "\n",
    "# create a scatter plot of the training and testing data using blue and green respectively \n",
    "plt.figure(figsize=(10, 6))\n",
    "plt.scatter(X_train, y_train, color='blue', label='Training Data')\n",
    "plt.scatter(X_test, y_test, color='green', label='Testing Data')\n",
    "plt.xlabel('Production Output')\n",
    "plt.ylabel('Cost')\n",
    "plt.title('Polynomial Regression')\n",
    "\n",
    "# plot each polynomial regression model's fitted line against the data\n",
    "for i in range(len(degrees)):\n",
    "    X_grid = np.linspace(X.min(), X.max(), 100).reshape(-1, 1)\n",
    "    X_poly_grid = poly_features_list[i].fit_transform(X_grid)\n",
    "    y_poly_grid = poly_models[i].predict(X_poly_grid)\n",
    "    plt.plot(X_grid, y_poly_grid, label=f'Degree {degrees[i]}')\n",
    "    \n",
    "plt.legend(loc='upper left')\n",
    "plt.show()"
   ]
  },
  {
   "cell_type": "markdown",
   "id": "d4008395",
   "metadata": {},
   "source": [
    "Based on the graph, the 4th degree polynomial regression model seems to provide the most appropiate prediction. The RMSE for the degree 4 model is the lowest out of all of the models, which means the model's predictions are closest to the actual values. Its R2 value is 1, which means that the model explains the variance of the target variable. "
   ]
  }
 ],
 "metadata": {
  "kernelspec": {
   "display_name": "Python 3",
   "language": "python",
   "name": "python3"
  },
  "language_info": {
   "codemirror_mode": {
    "name": "ipython",
    "version": 3
   },
   "file_extension": ".py",
   "mimetype": "text/x-python",
   "name": "python",
   "nbconvert_exporter": "python",
   "pygments_lexer": "ipython3",
   "version": "3.8.8"
  }
 },
 "nbformat": 4,
 "nbformat_minor": 5
}
